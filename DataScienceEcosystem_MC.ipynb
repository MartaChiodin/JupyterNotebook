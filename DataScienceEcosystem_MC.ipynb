{
  "metadata": {
    "toc-showmarkdowntxt": true,
    "toc-showcode": true,
    "language_info": {
      "codemirror_mode": {
        "name": "python",
        "version": 3
      },
      "file_extension": ".py",
      "mimetype": "text/x-python",
      "name": "python",
      "nbconvert_exporter": "python",
      "pygments_lexer": "ipython3",
      "version": "3.8"
    },
    "kernelspec": {
      "name": "python",
      "display_name": "Python (Pyodide)",
      "language": "python"
    }
  },
  "nbformat_minor": 4,
  "nbformat": 4,
  "cells": [
    {
      "cell_type": "markdown",
      "source": "# Data Science Tools and Ecosystem",
      "metadata": {}
    },
    {
      "cell_type": "markdown",
      "source": "## Author:\nMarta Chiodin",
      "metadata": {}
    },
    {
      "cell_type": "markdown",
      "source": "##### In this notebook Data Science Tools and Ecosysystem are summarized",
      "metadata": {}
    },
    {
      "cell_type": "markdown",
      "source": "**Objectives:**\n- List popular Data Science Languages, Libraries and Open Source Tools\n- Explain Jupyter Notebooks and work with Code and Markdown cells\n- Explain, Download and Install the Anaconda Navigator\n- Explain R and visualize data in R Studio using the ggplot2 package\n- Explain and work with Git and GitHub, create  a GitHub Account and work with branches\n\n",
      "metadata": {}
    },
    {
      "cell_type": "markdown",
      "source": "**Some of Data Science commonly used languages are:**\n1. Python\n2. R\n3. Java\n4. Julia\n",
      "metadata": {}
    },
    {
      "cell_type": "markdown",
      "source": "**Some of the commonly used libraries by Data Scientists are:**\n1. Numpy (Scientific Computing library)\n2. Matplotlib (Visualization library)\n3. Scikit-Learn (Machine-Learning library)\n4. Keras (Deep Learning)",
      "metadata": {}
    },
    {
      "cell_type": "markdown",
      "source": "|Data Science Tools|\n|------------------|\n|VS Code|\n|JupyterLab|\n|Google Colab|\n|R Studio|",
      "metadata": {}
    },
    {
      "cell_type": "markdown",
      "source": "### Below are a few examples of evaluating arithmetic expressions in Python",
      "metadata": {}
    },
    {
      "cell_type": "code",
      "source": "# this is an example of an arithmetic expression: multiply then add integers\n(3*4)+5",
      "metadata": {
        "trusted": true
      },
      "execution_count": 2,
      "outputs": [
        {
          "execution_count": 2,
          "output_type": "execute_result",
          "data": {
            "text/plain": "17"
          },
          "metadata": {}
        }
      ]
    },
    {
      "cell_type": "code",
      "source": "# this expression will convert 200 minutes into hours\n200/60",
      "metadata": {
        "trusted": true
      },
      "execution_count": 4,
      "outputs": [
        {
          "execution_count": 4,
          "output_type": "execute_result",
          "data": {
            "text/plain": "3.3333333333333335"
          },
          "metadata": {}
        }
      ]
    }
  ]
}